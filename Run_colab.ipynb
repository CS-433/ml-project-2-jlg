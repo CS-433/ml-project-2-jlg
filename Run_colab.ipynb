{
  "nbformat": 4,
  "nbformat_minor": 0,
  "metadata": {
    "colab": {
      "name": "Run_colab.ipynb",
      "provenance": [],
      "collapsed_sections": []
    },
    "kernelspec": {
      "name": "python3",
      "display_name": "Python 3"
    },
    "language_info": {
      "name": "python"
    },
    "accelerator": "GPU"
  },
  "cells": [
    {
      "cell_type": "markdown",
      "metadata": {
        "id": "JxeCsNuNIjrk"
      },
      "source": [
        "# Run with google colab"
      ]
    },
    {
      "cell_type": "code",
      "metadata": {
        "colab": {
          "base_uri": "https://localhost:8080/"
        },
        "id": "Y4Q_nIGUJ2mj",
        "outputId": "8354048a-dc39-4eab-9372-bb9606d0db59"
      },
      "source": [
        "from google.colab import drive\n",
        "drive.mount('/content/drive')"
      ],
      "execution_count": 21,
      "outputs": [
        {
          "output_type": "stream",
          "name": "stdout",
          "text": [
            "Drive already mounted at /content/drive; to attempt to forcibly remount, call drive.mount(\"/content/drive\", force_remount=True).\n"
          ]
        }
      ]
    },
    {
      "cell_type": "code",
      "metadata": {
        "id": "QB0HSmpGLTCd"
      },
      "source": [
        "import os\n",
        "path = '/content/drive/My Drive/'\n",
        "os.listdir(path)\n",
        "os.chdir('/content/drive/My Drive/ML_project2/scripts')\n",
        "#os.listdir()\n",
        "#!pwd"
      ],
      "execution_count": 30,
      "outputs": []
    },
    {
      "cell_type": "code",
      "metadata": {
        "id": "oqSy8L-_RT86"
      },
      "source": [
        "#!pip3 install opencv-python\n",
        "#!pip3 install sklearn\n",
        "#!pip3 install imgaug\n",
        "#!pip3 install scikit-image\n",
        "#!pip3 install torch\n"
      ],
      "execution_count": null,
      "outputs": []
    },
    {
      "cell_type": "code",
      "metadata": {
        "colab": {
          "base_uri": "https://localhost:8080/",
          "height": 146
        },
        "id": "GWjoBlDCVHfe",
        "outputId": "fa4ba3b8-06f8-4180-af8d-f06632ddde28"
      },
      "source": [
        "import torch\n",
        "import gc\n",
        "gc.collect()\n",
        "torch.cuda.empty_cache()\n",
        "torch.cuda.memory_summary(device=None, abbreviated=False)"
      ],
      "execution_count": 31,
      "outputs": [
        {
          "output_type": "execute_result",
          "data": {
            "application/vnd.google.colaboratory.intrinsic+json": {
              "type": "string"
            },
            "text/plain": [
              "'|===========================================================================|\\n|                  PyTorch CUDA memory summary, device ID 0                 |\\n|---------------------------------------------------------------------------|\\n|            CUDA OOMs: 0            |        cudaMalloc retries: 0         |\\n|===========================================================================|\\n|        Metric         | Cur Usage  | Peak Usage | Tot Alloc  | Tot Freed  |\\n|---------------------------------------------------------------------------|\\n| Allocated memory      |       0 B  |       0 B  |       0 B  |       0 B  |\\n|       from large pool |       0 B  |       0 B  |       0 B  |       0 B  |\\n|       from small pool |       0 B  |       0 B  |       0 B  |       0 B  |\\n|---------------------------------------------------------------------------|\\n| Active memory         |       0 B  |       0 B  |       0 B  |       0 B  |\\n|       from large pool |       0 B  |       0 B  |       0 B  |       0 B  |\\n|       from small pool |       0 B  |       0 B  |       0 B  |       0 B  |\\n|---------------------------------------------------------------------------|\\n| GPU reserved memory   |       0 B  |       0 B  |       0 B  |       0 B  |\\n|       from large pool |       0 B  |       0 B  |       0 B  |       0 B  |\\n|       from small pool |       0 B  |       0 B  |       0 B  |       0 B  |\\n|---------------------------------------------------------------------------|\\n| Non-releasable memory |       0 B  |       0 B  |       0 B  |       0 B  |\\n|       from large pool |       0 B  |       0 B  |       0 B  |       0 B  |\\n|       from small pool |       0 B  |       0 B  |       0 B  |       0 B  |\\n|---------------------------------------------------------------------------|\\n| Allocations           |       0    |       0    |       0    |       0    |\\n|       from large pool |       0    |       0    |       0    |       0    |\\n|       from small pool |       0    |       0    |       0    |       0    |\\n|---------------------------------------------------------------------------|\\n| Active allocs         |       0    |       0    |       0    |       0    |\\n|       from large pool |       0    |       0    |       0    |       0    |\\n|       from small pool |       0    |       0    |       0    |       0    |\\n|---------------------------------------------------------------------------|\\n| GPU reserved segments |       0    |       0    |       0    |       0    |\\n|       from large pool |       0    |       0    |       0    |       0    |\\n|       from small pool |       0    |       0    |       0    |       0    |\\n|---------------------------------------------------------------------------|\\n| Non-releasable allocs |       0    |       0    |       0    |       0    |\\n|       from large pool |       0    |       0    |       0    |       0    |\\n|       from small pool |       0    |       0    |       0    |       0    |\\n|---------------------------------------------------------------------------|\\n| Oversize allocations  |       0    |       0    |       0    |       0    |\\n|---------------------------------------------------------------------------|\\n| Oversize GPU segments |       0    |       0    |       0    |       0    |\\n|===========================================================================|\\n'"
            ]
          },
          "metadata": {},
          "execution_count": 31
        }
      ]
    },
    {
      "cell_type": "code",
      "metadata": {
        "colab": {
          "base_uri": "https://localhost:8080/"
        },
        "id": "VtOEGAu9Ri22",
        "outputId": "966a18ad-ddd5-423e-826d-32e551eb95b7"
      },
      "source": [
        "!python3 train.py\n"
      ],
      "execution_count": 32,
      "outputs": [
        {
          "output_type": "stream",
          "name": "stdout",
          "text": [
            "Creating train dataset with 80 samples\n",
            "Creating val dataset with 20 samples\n",
            "\n",
            "Start training...\n",
            "\n",
            "You are running the training of the data on a GPU\n",
            "\n",
            "As you are on a GPU, a scaler is added to the training in order to prevent underflow\n",
            "epoch : 1 / 10\n",
            "it num for train func : 1 / 10.\n",
            "it num for train func : 2 / 10.\n",
            "it num for train func : 3 / 10.\n",
            "it num for train func : 4 / 10.\n",
            "it num for train func : 5 / 10.\n",
            "it num for train func : 6 / 10.\n",
            "it num for train func : 7 / 10.\n",
            "it num for train func : 8 / 10.\n",
            "it num for train func : 9 / 10.\n",
            "it num for train func : 10 / 10.\n",
            "it num for train val func : 1 / 3.\n",
            "it num for train val func : 2 / 3.\n",
            "Traceback (most recent call last):\n",
            "  File \"train.py\", line 202, in <module>\n",
            "    main()\n",
            "  File \"train.py\", line 198, in main\n",
            "    training(train_loader, val_loader)\n",
            "  File \"train.py\", line 143, in training\n",
            "    accuracy = train_val(val_loader, model, epoch, writer)\n",
            "  File \"train.py\", line 107, in train_val\n",
            "    for batch_x, batch_y in val_loader :\n",
            "  File \"/usr/local/lib/python3.7/dist-packages/torch/utils/data/dataloader.py\", line 521, in __next__\n",
            "    data = self._next_data()\n",
            "  File \"/usr/local/lib/python3.7/dist-packages/torch/utils/data/dataloader.py\", line 561, in _next_data\n",
            "    data = self._dataset_fetcher.fetch(index)  # may raise StopIteration\n",
            "  File \"/usr/local/lib/python3.7/dist-packages/torch/utils/data/_utils/fetch.py\", line 49, in fetch\n",
            "    data = [self.dataset[idx] for idx in possibly_batched_index]\n",
            "  File \"/usr/local/lib/python3.7/dist-packages/torch/utils/data/_utils/fetch.py\", line 49, in <listcomp>\n",
            "    data = [self.dataset[idx] for idx in possibly_batched_index]\n",
            "  File \"/content/drive/My Drive/ML_project2/scripts/dataset.py\", line 35, in __getitem__\n",
            "    image_path = os.path.join(self.image_dir, self.images[idx])\n",
            "IndexError: list index out of range\n"
          ]
        }
      ]
    }
  ]
}