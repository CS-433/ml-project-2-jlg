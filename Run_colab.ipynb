{
 "cells": [
  {
   "cell_type": "markdown",
   "metadata": {
    "id": "UFxAFlDgbfPB"
   },
   "source": [
    "# Running with colab\n",
    "\n",
    "\n"
   ]
  },
  {
   "cell_type": "markdown",
   "metadata": {
    "id": "vTvoo8l7bwkv"
   },
   "source": [
    "First, you have to uplaod the entire project directory on your google drive account. Take care to unzip the zip data files.\n",
    "Then, go under 'Runtime / Change Runtime Type' to enable a GPU."
   ]
  },
  {
   "cell_type": "code",
   "execution_count": null,
   "metadata": {
    "id": "s5cRwJVia62k"
   },
   "outputs": [],
   "source": [
    "from google.colab import drive\n",
    "drive.mount('/content/drive')"
   ]
  },
  {
   "cell_type": "code",
   "execution_count": null,
   "metadata": {
    "id": "VFPEEjM8bILQ"
   },
   "outputs": [],
   "source": [
    "import os\n",
    "path = '/content/drive/My Drive/'\n",
    "os.chdir('/content/drive/My Drive/ml-project-2-jlg_project2/scripts') \n",
    "#if you have a problem with os.chdir function decomment the next line to known where you are in the directory hierarchy\n",
    "#!pwd "
   ]
  },
  {
   "cell_type": "markdown",
   "metadata": {
    "id": "lA0XzMO6dUjE"
   },
   "source": [
    "Then, by executing the next cell you will train our best model. Be aware that you can download the 'parameters.pt' file by following the link on the readme to gain time ; the training lasts for about 6 hours."
   ]
  },
  {
   "cell_type": "code",
   "execution_count": null,
   "metadata": {
    "id": "FOXcap5SdU0q"
   },
   "outputs": [],
   "source": [
    "!python3 train.py"
   ]
  },
  {
   "cell_type": "markdown",
   "metadata": {
    "id": "fwj4ppkheRkd"
   },
   "source": [
    "After training you can evaluate the model on the test data and create a submission by executing the next cell."
   ]
  },
  {
   "cell_type": "code",
   "execution_count": null,
   "metadata": {
    "id": "vECNy1qjeP6x"
   },
   "outputs": [],
   "source": [
    "!python3 run.py"
   ]
  }
 ],
 "metadata": {
  "colab": {
   "authorship_tag": "ABX9TyNMobguC54L11Y6KPkCHX05",
   "collapsed_sections": [],
   "name": "Run_colab.ipynb",
   "provenance": []
  },
  "kernelspec": {
   "display_name": "Python 3",
   "language": "python",
   "name": "python3"
  },
  "language_info": {
   "codemirror_mode": {
    "name": "ipython",
    "version": 3
   },
   "file_extension": ".py",
   "mimetype": "text/x-python",
   "name": "python",
   "nbconvert_exporter": "python",
   "pygments_lexer": "ipython3",
   "version": "3.8.3"
  }
 },
 "nbformat": 4,
 "nbformat_minor": 4
}
